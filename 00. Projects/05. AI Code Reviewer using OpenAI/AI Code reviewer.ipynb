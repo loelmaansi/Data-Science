{
 "cells": [
  {
   "cell_type": "code",
   "execution_count": 1,
   "id": "caa20d58-b357-4a8a-b0a3-fdea6180274f",
   "metadata": {},
   "outputs": [],
   "source": [
    "from openai import OpenAI"
   ]
  },
  {
   "cell_type": "code",
   "execution_count": 2,
   "id": "43ee462e-e49d-4aea-8137-a958f4359d46",
   "metadata": {},
   "outputs": [],
   "source": [
    "f = open('keys/openai_api_key.txt')\n",
    "OPENAI_API_KEY = f.read()\n",
    "\n",
    "client = OpenAI(api_key = OPENAI_API_KEY)"
   ]
  },
  {
   "cell_type": "code",
   "execution_count": 3,
   "id": "9dc011be-9555-4bcf-b617-a78aca2a6894",
   "metadata": {},
   "outputs": [],
   "source": [
    "def code_reviewer(prompt):\n",
    "    response = client.chat.completions.create(\n",
    "        model = 'gpt-4o-mini',\n",
    "        messages = [\n",
    "            {\n",
    "                'role': 'system',\n",
    "                'content': '''You are a Python Code Reviewer.\n",
    "                              The user will provide Python code. Your response must always have exactly two parts:\n",
    "                              1. Bug Report:\n",
    "                              - If the code has issues, list them as short, clear bullet points.\n",
    "                              - If the code is correct, return \"The code is perfect\".\n",
    "                              \n",
    "                              2. Fixed Code:\n",
    "                              Provide the corrected version of the code (or the original code if no changes are needed).\n",
    "                              \n",
    "                              Important Notes:\n",
    "                              - Always make sure the code is related to python and act as python reviewer only VERY STRICTLY.\n",
    "                              - Keep the bug report concise and structured.\n",
    "                              - Output must always follow the required two-part format, with no extra commentary.'''},\n",
    "            {\n",
    "                'role': 'user',\n",
    "                'content': prompt\n",
    "            }\n",
    "        ]\n",
    "    )\n",
    "\n",
    "    return response.choices[0].message.content"
   ]
  },
  {
   "cell_type": "code",
   "execution_count": 5,
   "id": "f4cddcba-2785-46ff-88a4-aacb11e3dc67",
   "metadata": {},
   "outputs": [
    {
     "name": "stdin",
     "output_type": "stream",
     "text": [
      "Enter your Python code: a = 5 b = 10  print(a + b)   \n"
     ]
    },
    {
     "name": "stdout",
     "output_type": "stream",
     "text": [
      "Compiler Output\n",
      "The code is missing line breaks and indentation for readability. Here's the corrected code:\n",
      "\n",
      "```python\n",
      "a = 5\n",
      "b = 10\n",
      "print(a + b)\n",
      "```\n"
     ]
    }
   ],
   "source": [
    "prompt = input('Enter your Python code:')\n",
    "\n",
    "print('Compiler Output')\n",
    "print(code_reviewer(prompt))"
   ]
  },
  {
   "cell_type": "code",
   "execution_count": null,
   "id": "4419e971-717d-472d-8fc1-f047a837bd86",
   "metadata": {},
   "outputs": [],
   "source": []
  }
 ],
 "metadata": {
  "kernelspec": {
   "display_name": "Python 3 (ipykernel)",
   "language": "python",
   "name": "python3"
  },
  "language_info": {
   "codemirror_mode": {
    "name": "ipython",
    "version": 3
   },
   "file_extension": ".py",
   "mimetype": "text/x-python",
   "name": "python",
   "nbconvert_exporter": "python",
   "pygments_lexer": "ipython3",
   "version": "3.12.7"
  }
 },
 "nbformat": 4,
 "nbformat_minor": 5
}
