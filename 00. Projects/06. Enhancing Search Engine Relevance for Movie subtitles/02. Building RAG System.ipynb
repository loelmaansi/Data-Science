{
 "cells": [
  {
   "cell_type": "code",
   "execution_count": 72,
   "id": "b7b8c6c1-1995-43f9-84ae-822ca7734d86",
   "metadata": {},
   "outputs": [],
   "source": [
    "import pandas as pd"
   ]
  },
  {
   "cell_type": "code",
   "execution_count": 1,
   "id": "0c10cce9-3024-4cd4-a6df-79c2f4edbe64",
   "metadata": {},
   "outputs": [],
   "source": [
    "import warnings\n",
    "warnings.filterwarnings(\"ignore\", category=UserWarning)\n",
    "warnings.filterwarnings(\"ignore\", category=FutureWarning)\n",
    "\n",
    "from tqdm import tqdm\n"
   ]
  },
  {
   "cell_type": "markdown",
   "id": "a5b62843-32b8-4b4a-a5d7-589d6a2354ba",
   "metadata": {},
   "source": [
    "## 1. Loading the document"
   ]
  },
  {
   "cell_type": "code",
   "execution_count": 3,
   "id": "76b537ee-028c-4794-b109-2def19cfade9",
   "metadata": {},
   "outputs": [],
   "source": [
    "from langchain_community.document_loaders.csv_loader import CSVLoader\n",
    "import random\n",
    "import csv\n",
    "\n",
    "csv.field_size_limit(2**30)  \n",
    "\n",
    "# Load the data\n",
    "loader = CSVLoader(file_path='data/subtitles_metadata.csv')\n",
    "documents = loader.load()\n",
    "\n",
    "# Sample 20% of the data\n",
    "documents = random.sample(documents, int(0.20 * len(documents)))"
   ]
  },
  {
   "cell_type": "code",
   "execution_count": 4,
   "id": "a039552d-42e3-42d9-9f80-0bcb4beb82bf",
   "metadata": {},
   "outputs": [
    {
     "name": "stdout",
     "output_type": "stream",
     "text": [
      "Type of loaded data: <class 'list'>\n",
      "Number of datapoints: 16499\n",
      "Type of each datapoints: <class 'langchain_core.documents.base.Document'>\n"
     ]
    }
   ],
   "source": [
    "print(\"Type of loaded data:\", type(documents))\n",
    "\n",
    "print(\"Number of datapoints:\", len(documents))\n",
    "\n",
    "print(\"Type of each datapoints:\", type(documents[0]))"
   ]
  },
  {
   "cell_type": "code",
   "execution_count": 8,
   "id": "c8770e44-86c6-4ad9-84c7-14e9ea9b1f43",
   "metadata": {},
   "outputs": [],
   "source": [
    "# documents[0]"
   ]
  },
  {
   "cell_type": "code",
   "execution_count": 9,
   "id": "3a78eef7-251b-4ab2-9582-6ee4a84a8ce7",
   "metadata": {},
   "outputs": [
    {
     "name": "stdout",
     "output_type": "stream",
     "text": [
      "movie_id: 9263779\n",
      "name: inside man\n",
      "season: 01\n",
      "episode: 04\n",
      "year: 2022\n",
      "subtitles: this programme contains strong language some violent scene and some scene which some viewer may find upsetting from the start . if i tell you to think of a red bus you just do don t you an image of a red bus just appears in your head right i suppose so yeah so what but instead if i tell you not to think of a blue bicycle you still picture a blue bicycle right yeah . ok. even though i specifically told you not to . is\n"
     ]
    }
   ],
   "source": [
    "print(documents[0].page_content[0:500])"
   ]
  },
  {
   "cell_type": "code",
   "execution_count": 10,
   "id": "7c7d391b-abe0-4bed-b6e9-333a2736cf4b",
   "metadata": {},
   "outputs": [
    {
     "name": "stdout",
     "output_type": "stream",
     "text": [
      "{'source': 'data/subtitles_metadata.csv', 'row': 20528}\n"
     ]
    }
   ],
   "source": [
    "print(documents[0].metadata)"
   ]
  },
  {
   "cell_type": "code",
   "execution_count": 12,
   "id": "c53cb955-871f-4e06-af93-729f2bba8999",
   "metadata": {},
   "outputs": [
    {
     "name": "stderr",
     "output_type": "stream",
     "text": [
      "Extracting metadata and assigning IDs: 100%|██████████| 16499/16499 [00:00<00:00, 66002.86it/s]\n"
     ]
    }
   ],
   "source": [
    "from langchain_core.documents import Document\n",
    "import re\n",
    "from tqdm import tqdm\n",
    "\n",
    "# Function to extract the relevant metadata from the page_content\n",
    "def extract_metadata(document, doc_id):\n",
    "    page_content = document.page_content\n",
    "\n",
    "    # Function to safely extract matches or return empty string if not found\n",
    "    def safe_extract(pattern, content):\n",
    "        match = re.search(pattern, content)\n",
    "        return match.group(1) if match else \"\"\n",
    "\n",
    "    # Extracting each field safely\n",
    "    movie_id = safe_extract(r'movie_id:\\s*(\\d+)', page_content)\n",
    "    name = safe_extract(r'name:\\s*(.*)', page_content)\n",
    "    season = safe_extract(r'season:\\s*(.*)', page_content)\n",
    "    episode = safe_extract(r'episode:\\s*(.*)', page_content)\n",
    "    year = safe_extract(r'year:\\s*(\\d{4})', page_content)\n",
    "\n",
    "    # Extract the subtitles (everything else) and clean it\n",
    "    subtitles = safe_extract(r'subtitles:\\s*(.*)', page_content)\n",
    "\n",
    "    # Creating new metadata dictionary\n",
    "    metadata = {\n",
    "        'movie_id': movie_id,\n",
    "        'name': name,\n",
    "        'season': season,\n",
    "        'episode': episode,\n",
    "        'year': year,\n",
    "    }\n",
    "\n",
    "\n",
    "    # Creating new document with ID, updated metadata, and page content\n",
    "    new_document = Document(\n",
    "        page_content=subtitles.strip(),  # Keeping only the subtitles text in page_content\n",
    "        metadata=metadata\n",
    "    )\n",
    "    \n",
    "    return new_document\n",
    "\n",
    "# Process all documents, extract metadata, and assign an id from 0 to len(documents)-1\n",
    "data = []\n",
    "for i, doc in enumerate(tqdm(documents, desc=\"Extracting metadata and assigning IDs\")):\n",
    "    new_doc = extract_metadata(doc, i)\n",
    "    data.append(new_doc)"
   ]
  },
  {
   "cell_type": "code",
   "execution_count": 28,
   "id": "6a4d6c27-df5e-477e-aa1a-a85e91c6430b",
   "metadata": {},
   "outputs": [],
   "source": [
    "# data[0]"
   ]
  },
  {
   "cell_type": "code",
   "execution_count": 26,
   "id": "00308653-2df3-4384-b590-fb477f36b06b",
   "metadata": {},
   "outputs": [
    {
     "name": "stdout",
     "output_type": "stream",
     "text": [
      "Meta data in first document: \n",
      "{'movie_id': '9263779', 'name': 'inside man', 'season': '01', 'episode': '04', 'year': '2022'}\n",
      "\n",
      "--------------------------------------------------------------------------------\n",
      "\n",
      "Subtitles in First document: \n",
      "this programme contains strong language some violent scene and some scene which some viewer may find upsetting from the start . if i tell you to think of a red bus you just do don t you an image of a red bus just appears in your head right i suppose so yeah so what but instead if i tell you not to think of a blue bicycle you still picture a blue bicycle right yeah . ok. even though i specifically told you not to . is there a point to this yes it s a demonstration of how you think how everyone th\n"
     ]
    }
   ],
   "source": [
    "print('Meta data in first document: ')\n",
    "print(data[0].metadata)\n",
    "print()\n",
    "print('-'*80)\n",
    "print()\n",
    "print('Subtitles in First document: ')\n",
    "print(data[0].page_content[0:500])"
   ]
  },
  {
   "cell_type": "markdown",
   "id": "26a01e6c-c512-446b-a4e3-7902c0fa9dee",
   "metadata": {},
   "source": [
    "## 2. Split into chunks"
   ]
  },
  {
   "cell_type": "code",
   "execution_count": 31,
   "id": "2574e3f3-4eb5-4866-858d-f846daed0296",
   "metadata": {},
   "outputs": [
    {
     "name": "stderr",
     "output_type": "stream",
     "text": [
      " Splitting data: 100%|██████████| 16499/16499 [00:40<00:00, 410.95data/s]\n"
     ]
    }
   ],
   "source": [
    "from langchain.text_splitter import RecursiveCharacterTextSplitter\n",
    "\n",
    "# Initialize the text splitter\n",
    "text_splitter = RecursiveCharacterTextSplitter(chunk_size=300, chunk_overlap=50)\n",
    "\n",
    "chunks = []\n",
    "for doc in tqdm(data, desc=\" Splitting data\", unit=\"data\"):\n",
    "    chunks.extend(text_splitter.split_documents([doc]))"
   ]
  },
  {
   "cell_type": "code",
   "execution_count": 32,
   "id": "63515cb7-8f5c-4302-8fa1-c258a2288f07",
   "metadata": {},
   "outputs": [
    {
     "name": "stdout",
     "output_type": "stream",
     "text": [
      "Number of Documents: 16499\n",
      "\n",
      "Total number of documents inside list: 1824632\n",
      "\n",
      "Type of variable: <class 'list'>\n",
      "\n",
      "Type of each object inside the list: <class 'langchain_core.documents.base.Document'>\n",
      "\n",
      "Total number of documents inside list: 1824632\n",
      "\n",
      "Content of first chunk:\n",
      "page_content='this programme contains strong language some violent scene and some scene which some viewer may find upsetting from the start . if i tell you to think of a red bus you just do don t you an image of a red bus just appears in your head right i suppose so yeah so what but instead if i tell you not to' metadata={'movie_id': '9263779', 'name': 'inside man', 'season': '01', 'episode': '04', 'year': '2022'}\n"
     ]
    }
   ],
   "source": [
    "print(\"Number of Documents:\", len(documents))\n",
    "print()\n",
    "print(\"Total number of documents inside list:\", len(chunks))\n",
    "print()\n",
    "print(\"Type of variable:\", type(chunks))\n",
    "print()\n",
    "print(\"Type of each object inside the list:\", type(chunks[0]))\n",
    "print()\n",
    "print(\"Total number of documents inside list:\", len(chunks))\n",
    "print()\n",
    "print(\"Content of first chunk:\")\n",
    "print(chunks[0])"
   ]
  },
  {
   "cell_type": "code",
   "execution_count": 33,
   "id": "95b3c139-af56-447d-8992-023b05d26b43",
   "metadata": {},
   "outputs": [
    {
     "data": {
      "text/plain": [
       "'this programme contains strong language some violent scene and some scene which some viewer may find upsetting from the start . if i tell you to think of a red bus you just do don t you an image of a red bus just appears in your head right i suppose so yeah so what but instead if i tell you not to'"
      ]
     },
     "execution_count": 33,
     "metadata": {},
     "output_type": "execute_result"
    }
   ],
   "source": [
    "chunks[0].page_content"
   ]
  },
  {
   "cell_type": "code",
   "execution_count": 34,
   "id": "3bb8ca09-679e-4752-b786-4e06318ecbe4",
   "metadata": {},
   "outputs": [
    {
     "data": {
      "text/plain": [
       "langchain_core.documents.base.Document"
      ]
     },
     "execution_count": 34,
     "metadata": {},
     "output_type": "execute_result"
    }
   ],
   "source": [
    "type(chunks[0])"
   ]
  },
  {
   "cell_type": "code",
   "execution_count": 35,
   "id": "45831032-b9a5-47fc-8477-8104f363e88b",
   "metadata": {},
   "outputs": [
    {
     "data": {
      "text/plain": [
       "dict"
      ]
     },
     "execution_count": 35,
     "metadata": {},
     "output_type": "execute_result"
    }
   ],
   "source": [
    "type(chunks[0].metadata)"
   ]
  },
  {
   "cell_type": "code",
   "execution_count": 36,
   "id": "a388bfb2-652f-466e-84de-4fb2eeecd1dd",
   "metadata": {},
   "outputs": [
    {
     "data": {
      "text/plain": [
       "1824632"
      ]
     },
     "execution_count": 36,
     "metadata": {},
     "output_type": "execute_result"
    }
   ],
   "source": [
    "len(chunks)"
   ]
  },
  {
   "cell_type": "code",
   "execution_count": 37,
   "id": "f1259b49-24fd-41f5-ad71-34e6baad3ae2",
   "metadata": {},
   "outputs": [
    {
     "data": {
      "text/plain": [
       "Document(metadata={'movie_id': '9263779', 'name': 'inside man', 'season': '01', 'episode': '04', 'year': '2022'}, page_content='this programme contains strong language some violent scene and some scene which some viewer may find upsetting from the start . if i tell you to think of a red bus you just do don t you an image of a red bus just appears in your head right i suppose so yeah so what but instead if i tell you not to')"
      ]
     },
     "execution_count": 37,
     "metadata": {},
     "output_type": "execute_result"
    }
   ],
   "source": [
    "chunks[0]"
   ]
  },
  {
   "cell_type": "markdown",
   "id": "54e53bc9-3136-4bbf-8a52-1f2a2abe18f0",
   "metadata": {},
   "source": [
    "## 3. Create vectors for rach chunk and save them in a vector store"
   ]
  },
  {
   "cell_type": "code",
   "execution_count": 39,
   "id": "77ffb679-d542-4440-8346-c23121a76b98",
   "metadata": {},
   "outputs": [],
   "source": [
    "f = open('keys/openai_api_key.txt')\n",
    "\n",
    "OPENAI_API_KEY = f.read()"
   ]
  },
  {
   "cell_type": "code",
   "execution_count": 47,
   "id": "2aa2298b-c040-43d8-b223-bbe029383ba4",
   "metadata": {},
   "outputs": [],
   "source": [
    "# Step 1: Initialize an embedding model\n",
    "\n",
    "from langchain.vectorstores import Chroma\n",
    "from sentence_transformers import SentenceTransformer\n",
    "from langchain.schema import Document\n",
    "from langchain.embeddings.base import Embeddings\n",
    "\n",
    "# Define an embedding class to wrap SentenceTransformer\n",
    "class SentenceTransformerEmbedding(Embeddings):\n",
    "    def __init__(self, model_name):\n",
    "        self.model = SentenceTransformer(model_name)\n",
    "\n",
    "    def embed_documents(self, texts):\n",
    "        '''Generate embeddings for multiple documents.'''\n",
    "        return self.model.encode(texts, convert_to_tensor = False).tolist()\n",
    "\n",
    "    def embed_query(self, text):\n",
    "        '''Generate an emedding for a single query.'''\n",
    "        return self.model.encode([text], convert_to_tensor = False)[0].tolist()\n",
    "\n",
    "# Create the embedding function\n",
    "embedding_function = SentenceTransformerEmbedding('all-MiniLM-L6-v2')"
   ]
  },
  {
   "cell_type": "code",
   "execution_count": 48,
   "id": "ec3b5eca-4eb7-4adf-a21c-d3b147de56bd",
   "metadata": {},
   "outputs": [],
   "source": [
    "# Step 2: Initialize the ChromaDB connection\n",
    "\n",
    "from langchain_chroma import Chroma\n",
    "\n",
    "db = Chroma(\n",
    "    collection_name = 'vector_database',\n",
    "    embedding_function = embedding_function,\n",
    "    persist_directory = './chroma_db_'\n",
    ")"
   ]
  },
  {
   "cell_type": "code",
   "execution_count": 49,
   "id": "79d47154-6b17-4a6d-b26f-487571c09470",
   "metadata": {},
   "outputs": [
    {
     "name": "stderr",
     "output_type": "stream",
     "text": [
      "Adding Documents: 100%|██████████| 18247/18247 [3:32:19<00:00,  1.43it/s]    "
     ]
    },
    {
     "name": "stdout",
     "output_type": "stream",
     "text": [
      "Documents successfuly added to the collection.\n"
     ]
    },
    {
     "name": "stderr",
     "output_type": "stream",
     "text": [
      "\n"
     ]
    }
   ],
   "source": [
    "# Define batch size for processing\n",
    "batch_size = 100 # Adjust based on performance needs\n",
    "\n",
    "# Ensure chunks is a list of langchain Document objects\n",
    "assert isinstance(chunks, list) and all(isinstance(chunk, Document) for chunk in chunks), \\\n",
    "    'Chunks must be a list of LangChain Document objects'\n",
    "\n",
    "# Adding Documents\n",
    "for i in tqdm(range(0, len(chunks), batch_size), desc = 'Adding Documents'):\n",
    "    batch = chunks[i : i + batch_size]\n",
    "    db.add_documents(batch)\n",
    "\n",
    "print('Documents successfuly added to the collection.')"
   ]
  },
  {
   "cell_type": "code",
   "execution_count": 62,
   "id": "b9313efb-8e97-4785-a4dc-3bfea10c6704",
   "metadata": {},
   "outputs": [
    {
     "name": "stdout",
     "output_type": "stream",
     "text": [
      "<class 'langchain_core.vectorstores.base.VectorStoreRetriever'>\n"
     ]
    }
   ],
   "source": [
    "# Step 3: Create a Retriever Object\n",
    "# Converting CHROMA db connection to retriever object\n",
    "\n",
    "retriever = db.as_retriever(\n",
    "    search_type= 'similarity',\n",
    "    search_kwargs = {'k': 10}\n",
    ")\n",
    "\n",
    "print(type(retriever))"
   ]
  },
  {
   "cell_type": "code",
   "execution_count": 63,
   "id": "d10f8f6f-38da-4daa-81c8-8a0159346946",
   "metadata": {},
   "outputs": [],
   "source": [
    "# Step 4: Initiliaze a Chat Prompt template\n",
    "\n",
    "from langchain_core.prompts import ChatPromptTemplate\n",
    "\n",
    "PROMPT_TEMPLATE = \"\"\"\n",
    "Answer the question based solely on the following context:\n",
    "{context}\n",
    "\n",
    "Based on the given subtitle/dialogues below:\n",
    "{question}\n",
    "\n",
    "Provide only the title of the movie.\n",
    "\"\"\"\n",
    "prompt_template = ChatPromptTemplate.from_template(PROMPT_TEMPLATE)"
   ]
  },
  {
   "cell_type": "code",
   "execution_count": 64,
   "id": "0584bf8e-4db3-434e-98ff-1a6cd389da93",
   "metadata": {},
   "outputs": [],
   "source": [
    "# Step 5: Initialize a Generator (i.e., Chat Model)\n",
    "\n",
    "f = open('keys/openai_api_key.txt')\n",
    "OPENAI_API_KEY = f.read()\n",
    "\n",
    "from langchain_openai import ChatOpenAI\n",
    "\n",
    "chat_model = ChatOpenAI(api_key = OPENAI_API_KEY, model = 'gpt-4o-mini')"
   ]
  },
  {
   "cell_type": "code",
   "execution_count": 65,
   "id": "b78af585-b973-4577-9827-b189cfc68eb2",
   "metadata": {},
   "outputs": [],
   "source": [
    "# Step 6: Initialize a Output Parser\n",
    "\n",
    "from langchain_core.output_parsers import StrOutputParser\n",
    "\n",
    "parser = StrOutputParser()"
   ]
  },
  {
   "cell_type": "code",
   "execution_count": 66,
   "id": "f6ebfbe5-eb19-4ac5-a749-298dd5f5d192",
   "metadata": {},
   "outputs": [],
   "source": [
    "# Step 7: Define a RAG Chain\n",
    "\n",
    "from langchain_core.runnables import RunnablePassthrough\n",
    "\n",
    "def format_docs(docs):\n",
    "    return \"\\n\\n\".join(doc.page_content for doc in docs)\n",
    "\n",
    "rag_chain = {'context': retriever | format_docs, 'question': RunnablePassthrough()} | prompt_template | chat_model | parser"
   ]
  },
  {
   "cell_type": "code",
   "execution_count": 77,
   "id": "124e551d-fb03-4f4d-b193-c4bf6427b547",
   "metadata": {},
   "outputs": [],
   "source": [
    "# Step 8: Invoke the Chain\n",
    "\n",
    "query_1 = '''Big man in a suit of armor, take that off what are you?, \n",
    "genius billionaire playboy philanthropist, \n",
    "I know guys with none of that worth 10 of you, I’ve seen the footage the only thing you really fight for is yourself, \n",
    "you’re not the guy to make the sacrifice play to lay down on a wire or let the other guy crawl over you! \n",
    "I think I would just cut the wire.  \n",
    "Always a way out, you know you may not be a threat but you stop pretending to be a hero! \n",
    "A hero like you, you’re a laboratory experiment rogers everything special about came out of a bottle'''"
   ]
  },
  {
   "cell_type": "code",
   "execution_count": 78,
   "id": "e6d760c0-0887-4750-814c-ce69a260d7f8",
   "metadata": {},
   "outputs": [],
   "source": [
    "query_2 = '''Don't talk like one of them, you're not! Even if you'd like to be. \n",
    "To them, you're just a freak, like me! They need you right now, but when they don't, \n",
    "they'll cast you out, like a leper! See, their morals, their code... it's a bad joke. \n",
    "Dropped at the first sign of trouble. They're only as good as the world allows them \n",
    "to be. I'll show you. When the chips are down, these... these civilized people? \n",
    "They'll eat each other. See, I'm not a monster. I'm just ahead of the curve.'''"
   ]
  },
  {
   "cell_type": "code",
   "execution_count": 82,
   "id": "7b9ec964-aeab-4f06-8525-e4aada15b88b",
   "metadata": {},
   "outputs": [
    {
     "name": "stdout",
     "output_type": "stream",
     "text": [
      "The Dark Knight\n",
      "CPU times: user 20.7 ms, sys: 43.6 ms, total: 64.3 ms\n",
      "Wall time: 894 ms\n"
     ]
    }
   ],
   "source": [
    "%%time\n",
    "\n",
    "result = rag_chain.invoke(query_2)\n",
    "\n",
    "print(result)"
   ]
  },
  {
   "cell_type": "code",
   "execution_count": 83,
   "id": "1a8b7989-aaf3-4b8c-afeb-2bedc2e3d1d9",
   "metadata": {},
   "outputs": [
    {
     "data": {
      "text/plain": [
       "[Document(id='f2e25d10-a626-4260-a34d-f097e2f49b3d', metadata={'season': 'movie', 'name': 'luther the fallen sun', 'episode': 'movie', 'year': '2023', 'movie_id': '9460292'}, page_content='that to themselves all the ... all the good people by telling themselves that we re the wicked one . yeah . all them monster are telling you all and me that we are monster . okay . good girl . okay . good girl . mum . mum . leave her alone you prick leave her alone ah . now then ... your turn mate'),\n",
       " Document(id='d61bd8c8-d3dd-4844-8da8-6df60ee2ea27', metadata={'season': 'movie', 'year': '2023', 'episode': 'movie', 'movie_id': '9460292', 'name': 'luther the fallen sun'}, page_content='that to themselves all the ... all the good people by telling themselves that we re the wicked one . yeah . all them monster are telling you all and me that we are monster . okay . good girl . okay . good girl . mum . mum . leave her alone you prick leave her alone ah . now then ... your turn mate'),\n",
       " Document(id='fe637ad2-ee58-4697-882f-648712bc9d57', metadata={'season': 'movie', 'name': 'seaquest.2032.s03.e03.smoke.on.the.water.(1995).eng.1cd', 'year': '1995', 'movie_id': '9407286', 'episode': 'movie'}, page_content='much about you . you re free spirited sweet and goodness . you don t understand what they are for all capable what they have done to u . you didn t even meet them . they might i did not but i am their father and brother . they made u work job too low even for servant . we die in their war we starve'),\n",
       " Document(id='fbbd4dc0-c66a-41fa-9743-445e7b6c41af', metadata={'season': '02', 'name': 'american horror story', 'movie_id': '9350829', 'episode': '06', 'year': '2012'}, page_content='they re gon na lock me up in my room . i ll never be able to do anything i want ever again . don t be a whiner . you re smarter than they are . don t you ever forget it . maybe you just need to learn how to defend yourself . fine . we ll be expecting you . monsignor . crisis averted . i mean she'),\n",
       " Document(id='7efe280d-d85c-4370-b2d3-5faac9f8818e', metadata={'year': '2012', 'movie_id': '9350829', 'episode': '06', 'name': 'american horror story', 'season': '02'}, page_content='they re gon na lock me up in my room . i ll never be able to do anything i want ever again . don t be a whiner . you re smarter than they are . don t you ever forget it . maybe you just need to learn how to defend yourself . fine . we ll be expecting you . monsignor . crisis averted . i mean she'),\n",
       " Document(id='039df541-f228-4319-a0b0-bce336cce444', metadata={'year': '2022', 'name': 'the real housewives of atlanta', 'movie_id': '9241757', 'season': '14', 'episode': '10'}, page_content='them so damn much . i know you do . exactly . let s go get u something to eat . they re going to stress me out . coming up next ... good vibe . don t worry . your vibe are going to be killed a soon a sanya get here . oh hey there . oh lord . she got a broke foot . i told you . you told me but you'),\n",
       " Document(id='69f016f8-f8ab-4964-a7fa-012f07468d1f', metadata={'name': 'love my way', 'year': '2007', 'episode': '02', 'season': '03', 'movie_id': '9236865'}, page_content='i need to ... you re scared . i ve been sworn at and humiliated . maybe i m ... fuck em . what fuck them . you are always telling me i m a bit of a princess . well that s what i love about you . you get what you want or you try to . so the world hate u at the moment . well fuck the world . it s u'),\n",
       " Document(id='3968a86f-08b0-4350-a3ff-bd1e01e741e6', metadata={'episode': '02', 'season': '03', 'name': 'love my way', 'year': '2007', 'movie_id': '9236865'}, page_content='i need to ... you re scared . i ve been sworn at and humiliated . maybe i m ... fuck em . what fuck them . you are always telling me i m a bit of a princess . well that s what i love about you . you get what you want or you try to . so the world hate u at the moment . well fuck the world . it s u'),\n",
       " Document(id='09185de6-2d4b-4956-a427-0b57bb075e35', metadata={'season': 'movie', 'year': '2022', 'episode': 'movie', 'movie_id': '9322548', 'name': 'the estate'}, page_content='it s not me it s them . and if they can t handle me being me fuck em . i guess that s another way to look at it . yeah . you know whatever . yeah okay . you too . well i guess i m heading back to florida in the same porsche i arrived in . oh . richard we all feel really really sorry for you . you'),\n",
       " Document(id='fa30f100-5c0c-49ae-a135-061f39f4831b', metadata={'season': 'movie', 'name': 'nova', 'episode': 'movie', 'movie_id': '9295527', 'year': '2022'}, page_content='wa a mistake . i have to help them see that . i m done helping them . they ll destroy themselves and u too . we re bound to follow order . are you even alive do you even exist or are you just a machine i am a slave no then do something about this . the chance of them surviving even if they make it')]"
      ]
     },
     "execution_count": 83,
     "metadata": {},
     "output_type": "execute_result"
    }
   ],
   "source": [
    "retriever.invoke(query_2)"
   ]
  },
  {
   "cell_type": "markdown",
   "id": "fa162434-d674-4c27-9ea7-f9642f267706",
   "metadata": {},
   "source": [
    "## Testing"
   ]
  },
  {
   "cell_type": "code",
   "execution_count": 70,
   "id": "0ed8059e-acf1-4d40-84f2-3fb53e9160d1",
   "metadata": {},
   "outputs": [],
   "source": [
    "ground_truth_data_long_dialogues = [\n",
    "    {\n",
    "        \"query\": \"\"\"Big man in a suit of armor, take that off what are you?,\n",
    "genius billionaire playboy philanthropist,\n",
    "I know guys with none of that worth 10 of you, I’ve seen the footage the only thing you really fight for is yourself,\n",
    "you’re not the guy to make the sacrifice play to lay down on a wire or let the other guy crawl over you!\n",
    "I think I would just cut the wire.\n",
    "Always a way out, you know you may not be a threat but you stop pretending to be a hero!\n",
    "A hero like you, you’re a laboratory experiment rogers everything special about came out of a bottle\"\"\",\n",
    "        \"expected_title\": \"The Avengers\" # Your example\n",
    "    },\n",
    "    {\n",
    "        \"query\": \"\"\"Don't talk like one of them, you're not! Even if you'd like to be. To them, you're just a freak, like me! They need you right now, but when they don't, they'll cast you out, like a leper! See, their morals, their code... it's a bad joke. Dropped at the first sign of trouble. They're only as good as the world allows them to be. I'll show you. When the chips are down, these... these civilized people? They'll eat each other. See, I'm not a monster. I'm just ahead of the curve.\"\"\",\n",
    "        \"expected_title\": \"The Dark Knight\"\n",
    "    },\n",
    "    {\n",
    "        \"query\": \"\"\"The Matrix is everywhere. It is all around us. Even now, in this very room. You can see it when you look out your window or when you turn on your television. You can feel it when you go to work... when you go to church... when you pay your taxes. It is the world that has been pulled over your eyes to blind you from the truth. That you are a slave, Neo. Like everyone else, you were born into bondage. Born into a prison that you cannot smell or taste or touch. A prison for your mind.\"\"\",\n",
    "        \"expected_title\": \"The Matrix\"\n",
    "    },\n",
    "    {\n",
    "        \"query\": \"\"\"There's a passage I got memorized. Ezekiel 25:17. 'The path of the righteous man is beset on all sides by the inequities of the selfish and the tyranny of evil men. Blessed is he who, in the name of charity and good will, shepherds the weak through the valley of darkness, for he is truly his brother's keeper and the finder of lost children. And I will strike down upon thee with great vengeance and furious anger those who attempt to poison and destroy My brothers. And you will know My name is the Lord when I lay My vengeance upon thee.'\"\"\",\n",
    "        \"expected_title\": \"Pulp Fiction\"\n",
    "    },\n",
    "    {\n",
    "        \"query\": \"\"\"You're not your job. You're not how much money you have in the bank. You're not the car you drive. You're not the contents of your wallet. You're not your f*cking khakis. We're the middle children of history, man. No purpose or place. We have no Great War. No Great Depression. Our Great War's a spiritual war... our Great Depression is our lives.\"\"\",\n",
    "        \"expected_title\": \"Fight Club\"\n",
    "    },\n",
    "    {\n",
    "        \"query\": \"\"\"It's an energy field created by all living things. It surrounds us and penetrates us; it binds the galaxy together. A Jedi can feel the Force flowing through him. It controls your actions, but it also obeys your commands. You will learn to use it, just as your father did.\"\"\", # Adapted from Obi-Wan's explanation\n",
    "        \"expected_title\": \"Star Wars: Episode IV - A New Hope\"\n",
    "    }\n",
    "]"
   ]
  },
  {
   "cell_type": "code",
   "execution_count": 84,
   "id": "3391a9ed-5e2f-400a-b5d6-45d99a8ea2d9",
   "metadata": {},
   "outputs": [],
   "source": [
    "ground_truth_data_long_dialogues = [\n",
    "    {\n",
    "    \"query\": \"\"\"I know what it’s like to lose. To feel so desperately that you’re right, yet to fail nonetheless. It’s frightening, turns the legs to jelly. I ask you, to what end? Dread it, run from it, destiny arrives all the same. And now it’s here. Or should I say, I am.\"\"\",\n",
    "    \"expected_title\": \"Avengers: Infinity War\"\n",
    "},\n",
    "{\n",
    "    \"query\": \"\"\"You could not live with your own failure. Where did that bring you? Back to me. I thought by eliminating half of life, the other half would thrive, but you have shown me that’s impossible. As long as there are those that remember what was, there will always be those that are unable to accept what can be. They will resist.\"\"\",\n",
    "    \"expected_title\": \"Avengers: Endgame\"\n",
    "},\n",
    "{\n",
    "    \"query\": \"\"\"You think you fight for us? You just fight for yourself. You weren’t there when Ultron nearly tore the world apart. You weren’t there when half the universe vanished. You weren’t there to pick up the pieces. You think your arrogance makes you strong, but it makes you dangerous. We need more than a soldier; we need someone who believes in more than just their own conviction.\"\"\",\n",
    "    \"expected_title\": \"Captain America: Civil War\"\n",
    "},\n",
    "{\n",
    "    \"query\": \"\"\"The hardest choices require the strongest wills. You’re strong, but I could snap my fingers, and you’d all cease to exist. I’m not doing this because I hate life. I’m doing this because I love it. A grateful universe will remember what I’ve done. It’s mercy, not cruelty. It’s balance.\"\"\",\n",
    "    \"expected_title\": \"Avengers: Infinity War\"\n",
    "},\n",
    "{\n",
    "    \"query\": \"\"\"I am Iron Man. You think you know what that means? I wasn’t born into greatness, I didn’t have it handed to me. I built it. Piece by piece, with blood, sweat, and fear. And in doing so, I learned the cost of power. Every triumph leaves a scar, every victory comes with a price. And yet I stand here because if I don’t, who will?\"\"\",\n",
    "    \"expected_title\": \"Iron Man\"\n",
    "},{\n",
    "    \"query\": \"\"\"People are afraid of what they don’t understand. They look up in the sky and see you, and all they feel is fear. Fear that one day you’ll decide they’re no longer worth protecting. You say you’re here for truth and justice, but whose truth, whose justice? You’re not a god, you’re not a man, you’re something else entirely, and the world will never stop questioning you.\"\"\",\n",
    "    \"expected_title\": \"Batman v Superman: Dawn of Justice\"\n",
    "},\n",
    "{\n",
    "    \"query\": \"\"\"My father was a lighthouse keeper. My mother was a queen. They were never meant to meet, but their love saved the world. And now it’s my turn. The land and the sea are not enemies, they’re two halves of the same whole. If I can be the bridge between them, maybe the world has a chance.\"\"\",\n",
    "    \"expected_title\": \"Aquaman\"\n",
    "},\n",
    "{\n",
    "    \"query\": \"\"\"You don’t owe this world a thing. You never did. But if you choose to stand with them, you will inspire them. You will give them an ideal to strive toward, something beyond themselves. And even if they can’t be you, they will try. They will rise. They will follow your example. And for that, they will honor you.\"\"\",\n",
    "    \"expected_title\": \"Man of Steel\"\n",
    "},\n",
    "{\n",
    "    \"query\": \"\"\"I am the fastest man alive, but even I can’t outrun fate. They told me I could save people, and I believed it. But no one told me about the cost, about how saving one life could mean losing another. That’s the curse of speed — you see the end coming long before anyone else, and you still can’t stop it.\"\"\",\n",
    "    \"expected_title\": \"Justice League\"\n",
    "},\n",
    "{\n",
    "    \"query\": \"\"\"I don’t believe in fate. I don’t believe in destiny. But I believe in people, in the choices we make when everything is on the line. You can call me a villain, you can call me a vigilante, but I’ll do what’s necessary to protect this city, even if it means standing alone in the dark.\"\"\",\n",
    "    \"expected_title\": \"The Dark Knight Rises\"\n",
    "},{\n",
    "    \"query\": \"\"\"Life will not be contained. Life breaks free. It expands to new territories and crashes through barriers, painfully, maybe even dangerously. But it always finds a way. You built cages, you thought you were in control, but control is an illusion. You brought back something you never should have touched.\"\"\",\n",
    "    \"expected_title\": \"Jurassic Park\"\n",
    "},\n",
    "{\n",
    "    \"query\": \"\"\"You know what the problem is? You didn’t stop to think if you should. You were so preoccupied with whether you could bring dinosaurs back that you never asked if the world was ready for them. And now they’re here, and we’re the ones trapped in a cage.\"\"\",\n",
    "    \"expected_title\": \"Jurassic Park\"\n",
    "},\n",
    "{\n",
    "    \"query\": \"\"\"These creatures don’t need our protection; they need to be left alone. They’re not pets, they’re not attractions. They’re living, breathing reminders of our arrogance. If we don’t stop trying to control them, they will remind us who the real predators are.\"\"\",\n",
    "    \"expected_title\": \"Jurassic World: Fallen Kingdom\"\n",
    "},\n",
    "{\n",
    "    \"query\": \"\"\"We made them. We fed them. We put them on display. And when they outgrew their cages, we tried to chain them down. But they are not ours to command. This island is theirs, not ours. And sooner or later, nature will correct our mistake.\"\"\",\n",
    "    \"expected_title\": \"Jurassic World\"\n",
    "},\n",
    "{\n",
    "    \"query\": \"\"\"When you look into the eyes of a raptor, you understand. They’re not mindless beasts, they’re calculating. They’re testing you. And if you think for one second you’re in control, you’re already dead.\"\"\",\n",
    "    \"expected_title\": \"Jurassic World\"\n",
    "},{\n",
    "    \"query\": \"\"\"I am not in danger, Skyler. I am the danger. A guy opens his door and gets shot, and you think that of me? No. I am the one who knocks. You think I built all this because I wanted to die? No. I did it because I wanted to live, and I wanted us to live better than anyone ever thought possible.\"\"\",\n",
    "    \"expected_title\": \"Breaking Bad\"\n",
    "},\n",
    "{\n",
    "    \"query\": \"\"\"When you play the game of thrones, you win or you die. There is no middle ground. Alliances crumble, oaths are broken, and the innocent are the first to bleed. Honor will not keep you alive. Mercy will not save you. The throne consumes all who reach for it.\"\"\",\n",
    "    \"expected_title\": \"Game of Thrones\"\n",
    "},\n",
    "{\n",
    "    \"query\": \"\"\"You know what the problem with being clever is? Everyone always assumes you’re being clever when you’re simply telling the truth. Deduction is not magic, it’s observation. The world hides its answers in plain sight, but most people never stop to look.\"\"\",\n",
    "    \"expected_title\": \"Sherlock\"\n",
    "},\n",
    "{\n",
    "    \"query\": \"\"\"Democracy is so overrated. You think power lies in ballots and speeches, but it doesn’t. Power lies in secrets, in leverage, in making your opponent believe they’ve already lost before the game begins. The people don’t want truth; they want reassurance, and I give it to them.\"\"\",\n",
    "    \"expected_title\": \"House of Cards\"\n",
    "},\n",
    "{\n",
    "    \"query\": \"\"\"You think this world belongs to you because you survived? No. It belongs to the dead. We’re just living in their shadow, pretending we still have control. Every step we take, every breath, we’re walking on borrowed time, waiting for the day it runs out.\"\"\",\n",
    "    \"expected_title\": \"The Walking Dead\"\n",
    "}\n",
    "\n",
    "]"
   ]
  },
  {
   "cell_type": "code",
   "execution_count": 85,
   "id": "736b3975-d463-44fd-a6ea-a9cd1494ee11",
   "metadata": {},
   "outputs": [
    {
     "name": "stderr",
     "output_type": "stream",
     "text": [
      "Evaluating RAG chain: 100%|██████████| 20/20 [00:14<00:00,  1.39it/s]\n"
     ]
    }
   ],
   "source": [
    "from tqdm import tqdm \n",
    "\n",
    "results = []\n",
    "\n",
    "for item in tqdm(ground_truth_data_long_dialogues, desc=\"Evaluating RAG chain\"):\n",
    "    query = item['query']\n",
    "    expected_title = item['expected_title']\n",
    "\n",
    "    try:\n",
    "        predicted_title = rag_chain.invoke(query)\n",
    "    except Exception as e:\n",
    "        predicted_title = f\"Error: {str(e)}\" # Handle potential errors during invocation\n",
    "\n",
    "    results.append({\n",
    "        'query': query,\n",
    "        'expected_title': expected_title,\n",
    "        'predicted_title': predicted_title\n",
    "    })\n",
    "\n",
    "# Convert results to a Pandas DataFrame for easier analysis\n",
    "results_df = pd.DataFrame(results)"
   ]
  },
  {
   "cell_type": "code",
   "execution_count": 86,
   "id": "506fa15c-c7fe-4fac-994d-4bfff9ebec2a",
   "metadata": {},
   "outputs": [
    {
     "data": {
      "text/html": [
       "<div>\n",
       "<style scoped>\n",
       "    .dataframe tbody tr th:only-of-type {\n",
       "        vertical-align: middle;\n",
       "    }\n",
       "\n",
       "    .dataframe tbody tr th {\n",
       "        vertical-align: top;\n",
       "    }\n",
       "\n",
       "    .dataframe thead th {\n",
       "        text-align: right;\n",
       "    }\n",
       "</style>\n",
       "<table border=\"1\" class=\"dataframe\">\n",
       "  <thead>\n",
       "    <tr style=\"text-align: right;\">\n",
       "      <th></th>\n",
       "      <th>query</th>\n",
       "      <th>expected_title</th>\n",
       "      <th>predicted_title</th>\n",
       "    </tr>\n",
       "  </thead>\n",
       "  <tbody>\n",
       "    <tr>\n",
       "      <th>0</th>\n",
       "      <td>I know what it’s like to lose. To feel so desp...</td>\n",
       "      <td>Avengers: Infinity War</td>\n",
       "      <td>Avengers: Infinity War</td>\n",
       "    </tr>\n",
       "    <tr>\n",
       "      <th>1</th>\n",
       "      <td>You could not live with your own failure. Wher...</td>\n",
       "      <td>Avengers: Endgame</td>\n",
       "      <td>Avengers: Endgame</td>\n",
       "    </tr>\n",
       "    <tr>\n",
       "      <th>2</th>\n",
       "      <td>You think you fight for us? You just fight for...</td>\n",
       "      <td>Captain America: Civil War</td>\n",
       "      <td>Avengers: Infinity War</td>\n",
       "    </tr>\n",
       "    <tr>\n",
       "      <th>3</th>\n",
       "      <td>The hardest choices require the strongest will...</td>\n",
       "      <td>Avengers: Infinity War</td>\n",
       "      <td>Avengers: Infinity War</td>\n",
       "    </tr>\n",
       "    <tr>\n",
       "      <th>4</th>\n",
       "      <td>I am Iron Man. You think you know what that me...</td>\n",
       "      <td>Iron Man</td>\n",
       "      <td>Iron Man</td>\n",
       "    </tr>\n",
       "  </tbody>\n",
       "</table>\n",
       "</div>"
      ],
      "text/plain": [
       "                                               query  \\\n",
       "0  I know what it’s like to lose. To feel so desp...   \n",
       "1  You could not live with your own failure. Wher...   \n",
       "2  You think you fight for us? You just fight for...   \n",
       "3  The hardest choices require the strongest will...   \n",
       "4  I am Iron Man. You think you know what that me...   \n",
       "\n",
       "               expected_title         predicted_title  \n",
       "0      Avengers: Infinity War  Avengers: Infinity War  \n",
       "1           Avengers: Endgame       Avengers: Endgame  \n",
       "2  Captain America: Civil War  Avengers: Infinity War  \n",
       "3      Avengers: Infinity War  Avengers: Infinity War  \n",
       "4                    Iron Man                Iron Man  "
      ]
     },
     "execution_count": 86,
     "metadata": {},
     "output_type": "execute_result"
    }
   ],
   "source": [
    "results_df.head()"
   ]
  },
  {
   "cell_type": "code",
   "execution_count": 87,
   "id": "fd49c1db-e132-4bd4-9cac-885a66ec0d4f",
   "metadata": {},
   "outputs": [
    {
     "data": {
      "text/html": [
       "<div>\n",
       "<style scoped>\n",
       "    .dataframe tbody tr th:only-of-type {\n",
       "        vertical-align: middle;\n",
       "    }\n",
       "\n",
       "    .dataframe tbody tr th {\n",
       "        vertical-align: top;\n",
       "    }\n",
       "\n",
       "    .dataframe thead th {\n",
       "        text-align: right;\n",
       "    }\n",
       "</style>\n",
       "<table border=\"1\" class=\"dataframe\">\n",
       "  <thead>\n",
       "    <tr style=\"text-align: right;\">\n",
       "      <th></th>\n",
       "      <th>normalized_expected_title</th>\n",
       "      <th>normalized_predicted_title</th>\n",
       "      <th>is_correct</th>\n",
       "    </tr>\n",
       "  </thead>\n",
       "  <tbody>\n",
       "    <tr>\n",
       "      <th>0</th>\n",
       "      <td>avengers: infinity war</td>\n",
       "      <td>avengers: infinity war</td>\n",
       "      <td>True</td>\n",
       "    </tr>\n",
       "    <tr>\n",
       "      <th>1</th>\n",
       "      <td>avengers: endgame</td>\n",
       "      <td>avengers: endgame</td>\n",
       "      <td>True</td>\n",
       "    </tr>\n",
       "    <tr>\n",
       "      <th>2</th>\n",
       "      <td>captain america: civil war</td>\n",
       "      <td>avengers: infinity war</td>\n",
       "      <td>False</td>\n",
       "    </tr>\n",
       "    <tr>\n",
       "      <th>3</th>\n",
       "      <td>avengers: infinity war</td>\n",
       "      <td>avengers: infinity war</td>\n",
       "      <td>True</td>\n",
       "    </tr>\n",
       "    <tr>\n",
       "      <th>4</th>\n",
       "      <td>iron man</td>\n",
       "      <td>iron man</td>\n",
       "      <td>True</td>\n",
       "    </tr>\n",
       "  </tbody>\n",
       "</table>\n",
       "</div>"
      ],
      "text/plain": [
       "    normalized_expected_title normalized_predicted_title  is_correct\n",
       "0      avengers: infinity war     avengers: infinity war        True\n",
       "1           avengers: endgame          avengers: endgame        True\n",
       "2  captain america: civil war     avengers: infinity war       False\n",
       "3      avengers: infinity war     avengers: infinity war        True\n",
       "4                    iron man                   iron man        True"
      ]
     },
     "execution_count": 87,
     "metadata": {},
     "output_type": "execute_result"
    }
   ],
   "source": [
    "def normalize_title(title):\n",
    "    if not isinstance(title, str):\n",
    "        return \"\" \n",
    "    title = title.lower().strip()\n",
    "    return title\n",
    "\n",
    "results_df['normalized_expected_title'] = results_df['expected_title'].apply(normalize_title)\n",
    "results_df['normalized_predicted_title'] = results_df['predicted_title'].apply(normalize_title)\n",
    "\n",
    "results_df['is_correct'] = (results_df['normalized_predicted_title'] == results_df['normalized_expected_title'])\n",
    "\n",
    "results_df[['normalized_expected_title', 'normalized_predicted_title', 'is_correct']].head()"
   ]
  },
  {
   "cell_type": "code",
   "execution_count": 88,
   "id": "b4b547df-5bcc-48d3-9d62-aeb783c662d4",
   "metadata": {},
   "outputs": [
    {
     "name": "stdout",
     "output_type": "stream",
     "text": [
      "\n",
      "Total Queries: 20\n",
      "Correct Predictions: 8\n",
      "Exact Match Accuracy: 40.00%\n"
     ]
    }
   ],
   "source": [
    "# Calculate Exact Match Accuracy\n",
    "correct_predictions = results_df['is_correct'].sum()\n",
    "total_queries = len(results_df)\n",
    "accuracy = correct_predictions / total_queries\n",
    "\n",
    "print(f\"\\nTotal Queries: {total_queries}\")\n",
    "print(f\"Correct Predictions: {correct_predictions}\")\n",
    "print(f\"Exact Match Accuracy: {accuracy:.2%}\")"
   ]
  },
  {
   "cell_type": "code",
   "execution_count": null,
   "id": "5ae7921e-4155-451d-b392-58d68b3dbf58",
   "metadata": {},
   "outputs": [],
   "source": []
  }
 ],
 "metadata": {
  "kernelspec": {
   "display_name": "Python 3 (ipykernel)",
   "language": "python",
   "name": "python3"
  },
  "language_info": {
   "codemirror_mode": {
    "name": "ipython",
    "version": 3
   },
   "file_extension": ".py",
   "mimetype": "text/x-python",
   "name": "python",
   "nbconvert_exporter": "python",
   "pygments_lexer": "ipython3",
   "version": "3.12.7"
  }
 },
 "nbformat": 4,
 "nbformat_minor": 5
}
