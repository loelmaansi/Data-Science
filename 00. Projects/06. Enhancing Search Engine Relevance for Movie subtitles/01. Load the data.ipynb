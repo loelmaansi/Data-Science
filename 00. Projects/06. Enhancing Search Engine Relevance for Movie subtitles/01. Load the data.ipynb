{
 "cells": [
  {
   "cell_type": "markdown",
   "id": "bb17bf87-12d1-46c3-a3a1-5a59bb9debe0",
   "metadata": {},
   "source": [
    "# **Reading the Data from Database**"
   ]
  },
  {
   "cell_type": "code",
   "execution_count": 1,
   "id": "3b7e07de-da29-4f4d-9dc8-ffe409cf1746",
   "metadata": {},
   "outputs": [],
   "source": [
    "import sqlite3\n",
    "import pandas as pd"
   ]
  },
  {
   "cell_type": "markdown",
   "id": "2b2d51f7-e822-4ba0-9159-7365dcfcd721",
   "metadata": {},
   "source": [
    "## **Step 1 - Reading the Tables from Database file**"
   ]
  },
  {
   "cell_type": "code",
   "execution_count": 2,
   "id": "e3f65eb1-b39a-416d-828c-e0548dbd365e",
   "metadata": {},
   "outputs": [
    {
     "name": "stdout",
     "output_type": "stream",
     "text": [
      "[('zipfiles',)]\n"
     ]
    }
   ],
   "source": [
    "# Read the code below and write your observation in the next cell\n",
    "\n",
    "conn = sqlite3.connect('data/eng_subtitles_database.db')\n",
    "cursor = conn.cursor()\n",
    "cursor.execute(\"SELECT name FROM sqlite_master WHERE type='table'\")\n",
    "print(cursor.fetchall())"
   ]
  },
  {
   "cell_type": "markdown",
   "id": "a87475e8-06d4-4fe6-83df-44c46d8c2515",
   "metadata": {},
   "source": [
    "**In the above cell, I am able to read the table inside the database. As mentioned earlier, table name is `zipfiles`. We also know from README.txt that this table contains three columns: 'num', 'name' and 'content'.**"
   ]
  },
  {
   "cell_type": "markdown",
   "id": "c3662ba9-79f4-4647-a79b-21b1c2df4faa",
   "metadata": {},
   "source": [
    "## **Step 2 - Reading the columns of Table**"
   ]
  },
  {
   "cell_type": "code",
   "execution_count": 3,
   "id": "9935a63c-72ca-48c9-a448-b130d0062355",
   "metadata": {},
   "outputs": [
    {
     "name": "stdout",
     "output_type": "stream",
     "text": [
      "num\n",
      "name\n",
      "content\n"
     ]
    }
   ],
   "source": [
    "cursor.execute(\"PRAGMA table_info('zipfiles')\")\n",
    "cols = cursor.fetchall()\n",
    "for col in cols:\n",
    "    print(col[1])"
   ]
  },
  {
   "cell_type": "markdown",
   "id": "c7fe8c06-c6cc-47d9-abf6-1273726968d5",
   "metadata": {},
   "source": [
    "**The above code helps in checking the column names in the database table.**\n",
    "\n",
    "**Let's now use `SELECT * FROM zipfiles` to read all the data into a `df` variable.**"
   ]
  },
  {
   "cell_type": "markdown",
   "id": "5426020c-d2f7-4bcf-8f35-87666418f710",
   "metadata": {},
   "source": [
    "## **Step 3 - Loading the Database Table inside a Pandas DataFrame**"
   ]
  },
  {
   "cell_type": "code",
   "execution_count": 4,
   "id": "2ef35dfb-daff-468d-8703-1f66a49c71e8",
   "metadata": {},
   "outputs": [
    {
     "data": {
      "text/html": [
       "<div>\n",
       "<style scoped>\n",
       "    .dataframe tbody tr th:only-of-type {\n",
       "        vertical-align: middle;\n",
       "    }\n",
       "\n",
       "    .dataframe tbody tr th {\n",
       "        vertical-align: top;\n",
       "    }\n",
       "\n",
       "    .dataframe thead th {\n",
       "        text-align: right;\n",
       "    }\n",
       "</style>\n",
       "<table border=\"1\" class=\"dataframe\">\n",
       "  <thead>\n",
       "    <tr style=\"text-align: right;\">\n",
       "      <th></th>\n",
       "      <th>num</th>\n",
       "      <th>name</th>\n",
       "      <th>content</th>\n",
       "    </tr>\n",
       "  </thead>\n",
       "  <tbody>\n",
       "    <tr>\n",
       "      <th>0</th>\n",
       "      <td>9180533</td>\n",
       "      <td>the.message.(1976).eng.1cd</td>\n",
       "      <td>b'PK\\x03\\x04\\x14\\x00\\x00\\x00\\x08\\x00\\x1c\\xa9\\x...</td>\n",
       "    </tr>\n",
       "    <tr>\n",
       "      <th>1</th>\n",
       "      <td>9180583</td>\n",
       "      <td>here.comes.the.grump.s01.e09.joltin.jack.in.bo...</td>\n",
       "      <td>b'PK\\x03\\x04\\x14\\x00\\x00\\x00\\x08\\x00\\x17\\xb9\\x...</td>\n",
       "    </tr>\n",
       "    <tr>\n",
       "      <th>2</th>\n",
       "      <td>9180592</td>\n",
       "      <td>yumis.cells.s02.e13.episode.2.13.(2022).eng.1cd</td>\n",
       "      <td>b'PK\\x03\\x04\\x14\\x00\\x00\\x00\\x08\\x00L\\xb9\\x99V...</td>\n",
       "    </tr>\n",
       "    <tr>\n",
       "      <th>3</th>\n",
       "      <td>9180594</td>\n",
       "      <td>yumis.cells.s02.e14.episode.2.14.(2022).eng.1cd</td>\n",
       "      <td>b'PK\\x03\\x04\\x14\\x00\\x00\\x00\\x08\\x00U\\xa9\\x99V...</td>\n",
       "    </tr>\n",
       "    <tr>\n",
       "      <th>4</th>\n",
       "      <td>9180600</td>\n",
       "      <td>broker.(2022).eng.1cd</td>\n",
       "      <td>b'PK\\x03\\x04\\x14\\x00\\x00\\x00\\x08\\x001\\xa9\\x99V...</td>\n",
       "    </tr>\n",
       "  </tbody>\n",
       "</table>\n",
       "</div>"
      ],
      "text/plain": [
       "       num                                               name  \\\n",
       "0  9180533                         the.message.(1976).eng.1cd   \n",
       "1  9180583  here.comes.the.grump.s01.e09.joltin.jack.in.bo...   \n",
       "2  9180592    yumis.cells.s02.e13.episode.2.13.(2022).eng.1cd   \n",
       "3  9180594    yumis.cells.s02.e14.episode.2.14.(2022).eng.1cd   \n",
       "4  9180600                              broker.(2022).eng.1cd   \n",
       "\n",
       "                                             content  \n",
       "0  b'PK\\x03\\x04\\x14\\x00\\x00\\x00\\x08\\x00\\x1c\\xa9\\x...  \n",
       "1  b'PK\\x03\\x04\\x14\\x00\\x00\\x00\\x08\\x00\\x17\\xb9\\x...  \n",
       "2  b'PK\\x03\\x04\\x14\\x00\\x00\\x00\\x08\\x00L\\xb9\\x99V...  \n",
       "3  b'PK\\x03\\x04\\x14\\x00\\x00\\x00\\x08\\x00U\\xa9\\x99V...  \n",
       "4  b'PK\\x03\\x04\\x14\\x00\\x00\\x00\\x08\\x001\\xa9\\x99V...  "
      ]
     },
     "execution_count": 4,
     "metadata": {},
     "output_type": "execute_result"
    }
   ],
   "source": [
    "df = pd.read_sql_query(\"\"\"SELECT * FROM zipfiles\"\"\", conn)\n",
    "df.head()"
   ]
  },
  {
   "cell_type": "code",
   "execution_count": 5,
   "id": "80a59f0d-2bcb-4543-b83e-6b6e048deccd",
   "metadata": {},
   "outputs": [
    {
     "name": "stdout",
     "output_type": "stream",
     "text": [
      "<class 'pandas.core.frame.DataFrame'>\n",
      "RangeIndex: 82498 entries, 0 to 82497\n",
      "Data columns (total 3 columns):\n",
      " #   Column   Non-Null Count  Dtype \n",
      "---  ------   --------------  ----- \n",
      " 0   num      82498 non-null  int64 \n",
      " 1   name     82498 non-null  object\n",
      " 2   content  82498 non-null  object\n",
      "dtypes: int64(1), object(2)\n",
      "memory usage: 1.9+ MB\n"
     ]
    }
   ],
   "source": [
    "df.info()"
   ]
  },
  {
   "cell_type": "markdown",
   "id": "0a03155b-ce58-4747-bea4-a1cc33f9d86f",
   "metadata": {},
   "source": [
    "**Looks like the `content` column donot contain the subtitles text. Instead as mentioned in README.txt, it might be latin-1 encoded.**"
   ]
  },
  {
   "cell_type": "markdown",
   "id": "8034cc9e-bb48-4cbb-be2f-ab7a88105320",
   "metadata": {},
   "source": [
    "## **Step 4 - Printing `content` of 0th Row**"
   ]
  },
  {
   "cell_type": "code",
   "execution_count": 6,
   "id": "f3df256f-690f-4b01-915d-b9b28d3b3903",
   "metadata": {},
   "outputs": [],
   "source": [
    "b_data = df.iloc[0, 2]\n",
    "\n",
    "# here 2 represent the index of content column\n",
    "# 0 represents the row number"
   ]
  },
  {
   "cell_type": "code",
   "execution_count": 7,
   "id": "0c7aa24b-983e-49d7-8731-bbcc07c2a5ad",
   "metadata": {},
   "outputs": [],
   "source": [
    "# print(b_data)"
   ]
  },
  {
   "cell_type": "markdown",
   "id": "20e15ae7-4b52-45e1-8a60-0ff37cc93984",
   "metadata": {},
   "source": [
    "**From the content, it appears to start with the bytes \"PK\\x03\\......\", which suggests that it might be a ZIP archive file. How do I know it? Experience! I have worked with something similar earlier.**"
   ]
  },
  {
   "cell_type": "markdown",
   "id": "47c6e8fa-1650-4053-839c-fdc09605d479",
   "metadata": {},
   "source": [
    "## **Step 5 - Unzipping the content of 385th row and decoding using `latin-1`**"
   ]
  },
  {
   "cell_type": "code",
   "execution_count": 8,
   "id": "f10aa9fc-10e4-4e90-a845-604747a6595d",
   "metadata": {},
   "outputs": [
    {
     "name": "stdout",
     "output_type": "stream",
     "text": [
      "1\n",
      "00:00:06,000 --> 00:00:12,074\n",
      "Watch any video online with Open-SUBTITLES\n",
      "Free Browser extension: osdb.link/ext\n",
      "\n",
      "2\n",
      "00:00:15,370 --> 00:00:16,506\n",
      "You lose everything, my girl.\n",
      "\n",
      "3\n",
      "00:00:16,530 --> 00:00:19,360\n",
      "So you've said - four times.\n",
      "\n",
      "4\n",
      "00:00:20,330 --> 00:00:22,120\n",
      "I definitely had\n",
      "it on yesterday.\n"
     ]
    }
   ],
   "source": [
    "import zipfile\n",
    "import io\n",
    "\n",
    "# Assuming 'content' is the binary data from your database\n",
    "binary_data = df.iloc[385, 2]\n",
    "\n",
    "# Decompress the binary data using the zipfile module\n",
    "with io.BytesIO(binary_data) as f:\n",
    "    with zipfile.ZipFile(f, 'r') as zip_file:\n",
    "        # Reading only one file in the ZIP archive\n",
    "        subtitle_content = zip_file.read(zip_file.namelist()[0])\n",
    "\n",
    "# Now 'subtitle_content' should contain the extracted subtitle content\n",
    "print(subtitle_content.decode('latin-1')[:320])  # Assuming the content is latin-1 encoded text"
   ]
  },
  {
   "cell_type": "markdown",
   "id": "f8d44d43-21c7-4f64-99a7-cc7957b09c2b",
   "metadata": {},
   "source": [
    "**Look's like it worked.**"
   ]
  },
  {
   "cell_type": "markdown",
   "id": "5f6b5f83-ca59-464d-bd84-996db0fbd831",
   "metadata": {},
   "source": [
    "## **Step 6 - Applying the above Function on the Entire Data**"
   ]
  },
  {
   "cell_type": "code",
   "execution_count": 9,
   "id": "ba629f35-eb15-4d2f-b3de-45b2c6642dc9",
   "metadata": {},
   "outputs": [],
   "source": [
    "import zipfile\n",
    "import io\n",
    "\n",
    "count = 0\n",
    "\n",
    "def decode_method(binary_data):\n",
    "    global count\n",
    "    # Decompress the binary data using the zipfile module\n",
    "    # print(count, end=\" \")\n",
    "    count += 1\n",
    "    with io.BytesIO(binary_data) as f:\n",
    "        with zipfile.ZipFile(f, 'r') as zip_file:\n",
    "            # Assuming there's only one file in the ZIP archive\n",
    "            subtitle_content = zip_file.read(zip_file.namelist()[0])\n",
    "    \n",
    "    # Now 'subtitle_content' should contain the extracted subtitle content\n",
    "    return subtitle_content.decode('latin-1')  # Assuming the content is UTF-8 encoded text"
   ]
  },
  {
   "cell_type": "code",
   "execution_count": 10,
   "id": "803ef7b9-5c35-4fac-a673-55188deca033",
   "metadata": {},
   "outputs": [
    {
     "data": {
      "text/html": [
       "<div>\n",
       "<style scoped>\n",
       "    .dataframe tbody tr th:only-of-type {\n",
       "        vertical-align: middle;\n",
       "    }\n",
       "\n",
       "    .dataframe tbody tr th {\n",
       "        vertical-align: top;\n",
       "    }\n",
       "\n",
       "    .dataframe thead th {\n",
       "        text-align: right;\n",
       "    }\n",
       "</style>\n",
       "<table border=\"1\" class=\"dataframe\">\n",
       "  <thead>\n",
       "    <tr style=\"text-align: right;\">\n",
       "      <th></th>\n",
       "      <th>num</th>\n",
       "      <th>name</th>\n",
       "      <th>content</th>\n",
       "      <th>file_content</th>\n",
       "    </tr>\n",
       "  </thead>\n",
       "  <tbody>\n",
       "    <tr>\n",
       "      <th>0</th>\n",
       "      <td>9180533</td>\n",
       "      <td>the.message.(1976).eng.1cd</td>\n",
       "      <td>b'PK\\x03\\x04\\x14\\x00\\x00\\x00\\x08\\x00\\x1c\\xa9\\x...</td>\n",
       "      <td>1\\r\\n00:00:06,000 --&gt; 00:00:12,074\\r\\nWatch an...</td>\n",
       "    </tr>\n",
       "    <tr>\n",
       "      <th>1</th>\n",
       "      <td>9180583</td>\n",
       "      <td>here.comes.the.grump.s01.e09.joltin.jack.in.bo...</td>\n",
       "      <td>b'PK\\x03\\x04\\x14\\x00\\x00\\x00\\x08\\x00\\x17\\xb9\\x...</td>\n",
       "      <td>1\\r\\n00:00:29,359 --&gt; 00:00:32,048\\r\\nAh! Ther...</td>\n",
       "    </tr>\n",
       "    <tr>\n",
       "      <th>2</th>\n",
       "      <td>9180592</td>\n",
       "      <td>yumis.cells.s02.e13.episode.2.13.(2022).eng.1cd</td>\n",
       "      <td>b'PK\\x03\\x04\\x14\\x00\\x00\\x00\\x08\\x00L\\xb9\\x99V...</td>\n",
       "      <td>1\\r\\n00:00:53,200 --&gt; 00:00:56,030\\r\\n&lt;i&gt;Yumi'...</td>\n",
       "    </tr>\n",
       "    <tr>\n",
       "      <th>3</th>\n",
       "      <td>9180594</td>\n",
       "      <td>yumis.cells.s02.e14.episode.2.14.(2022).eng.1cd</td>\n",
       "      <td>b'PK\\x03\\x04\\x14\\x00\\x00\\x00\\x08\\x00U\\xa9\\x99V...</td>\n",
       "      <td>1\\r\\n00:00:06,000 --&gt; 00:00:12,074\\r\\nWatch an...</td>\n",
       "    </tr>\n",
       "    <tr>\n",
       "      <th>4</th>\n",
       "      <td>9180600</td>\n",
       "      <td>broker.(2022).eng.1cd</td>\n",
       "      <td>b'PK\\x03\\x04\\x14\\x00\\x00\\x00\\x08\\x001\\xa9\\x99V...</td>\n",
       "      <td>ï»¿1\\r\\n00:00:06,000 --&gt; 00:00:12,074\\r\\nWatch...</td>\n",
       "    </tr>\n",
       "  </tbody>\n",
       "</table>\n",
       "</div>"
      ],
      "text/plain": [
       "       num                                               name  \\\n",
       "0  9180533                         the.message.(1976).eng.1cd   \n",
       "1  9180583  here.comes.the.grump.s01.e09.joltin.jack.in.bo...   \n",
       "2  9180592    yumis.cells.s02.e13.episode.2.13.(2022).eng.1cd   \n",
       "3  9180594    yumis.cells.s02.e14.episode.2.14.(2022).eng.1cd   \n",
       "4  9180600                              broker.(2022).eng.1cd   \n",
       "\n",
       "                                             content  \\\n",
       "0  b'PK\\x03\\x04\\x14\\x00\\x00\\x00\\x08\\x00\\x1c\\xa9\\x...   \n",
       "1  b'PK\\x03\\x04\\x14\\x00\\x00\\x00\\x08\\x00\\x17\\xb9\\x...   \n",
       "2  b'PK\\x03\\x04\\x14\\x00\\x00\\x00\\x08\\x00L\\xb9\\x99V...   \n",
       "3  b'PK\\x03\\x04\\x14\\x00\\x00\\x00\\x08\\x00U\\xa9\\x99V...   \n",
       "4  b'PK\\x03\\x04\\x14\\x00\\x00\\x00\\x08\\x001\\xa9\\x99V...   \n",
       "\n",
       "                                        file_content  \n",
       "0  1\\r\\n00:00:06,000 --> 00:00:12,074\\r\\nWatch an...  \n",
       "1  1\\r\\n00:00:29,359 --> 00:00:32,048\\r\\nAh! Ther...  \n",
       "2  1\\r\\n00:00:53,200 --> 00:00:56,030\\r\\n<i>Yumi'...  \n",
       "3  1\\r\\n00:00:06,000 --> 00:00:12,074\\r\\nWatch an...  \n",
       "4  ï»¿1\\r\\n00:00:06,000 --> 00:00:12,074\\r\\nWatch...  "
      ]
     },
     "execution_count": 10,
     "metadata": {},
     "output_type": "execute_result"
    }
   ],
   "source": [
    "df['file_content'] = df['content'].apply(decode_method)\n",
    "\n",
    "df.head()"
   ]
  },
  {
   "cell_type": "code",
   "execution_count": 11,
   "id": "73bbcd3c-8606-4e03-b42d-549e78f0a18d",
   "metadata": {},
   "outputs": [
    {
     "name": "stdout",
     "output_type": "stream",
     "text": [
      "<class 'pandas.core.frame.DataFrame'>\n",
      "RangeIndex: 82498 entries, 0 to 82497\n",
      "Data columns (total 4 columns):\n",
      " #   Column        Non-Null Count  Dtype \n",
      "---  ------        --------------  ----- \n",
      " 0   num           82498 non-null  int64 \n",
      " 1   name          82498 non-null  object\n",
      " 2   content       82498 non-null  object\n",
      " 3   file_content  82498 non-null  object\n",
      "dtypes: int64(1), object(3)\n",
      "memory usage: 2.5+ MB\n"
     ]
    }
   ],
   "source": [
    "df.info()"
   ]
  },
  {
   "cell_type": "code",
   "execution_count": 12,
   "id": "7a4d5015-2784-4f6e-b6d1-1f45b16cd759",
   "metadata": {},
   "outputs": [
    {
     "data": {
      "text/html": [
       "<div>\n",
       "<style scoped>\n",
       "    .dataframe tbody tr th:only-of-type {\n",
       "        vertical-align: middle;\n",
       "    }\n",
       "\n",
       "    .dataframe tbody tr th {\n",
       "        vertical-align: top;\n",
       "    }\n",
       "\n",
       "    .dataframe thead th {\n",
       "        text-align: right;\n",
       "    }\n",
       "</style>\n",
       "<table border=\"1\" class=\"dataframe\">\n",
       "  <thead>\n",
       "    <tr style=\"text-align: right;\">\n",
       "      <th></th>\n",
       "      <th>num</th>\n",
       "      <th>name</th>\n",
       "      <th>content</th>\n",
       "      <th>subtitles</th>\n",
       "    </tr>\n",
       "  </thead>\n",
       "  <tbody>\n",
       "    <tr>\n",
       "      <th>82493</th>\n",
       "      <td>9521935</td>\n",
       "      <td>the.prophets.game.(2000).eng.1cd</td>\n",
       "      <td>b'PK\\x03\\x04\\x14\\x00\\x00\\x00\\x08\\x00\\xb8\\xa6\\x...</td>\n",
       "      <td>ï»¿1\\r\\n00:01:16,284 --&gt; 00:01:19,537\\r\\nGod,\\...</td>\n",
       "    </tr>\n",
       "    <tr>\n",
       "      <th>82494</th>\n",
       "      <td>9521937</td>\n",
       "      <td>west.beirut.(1998).eng.1cd</td>\n",
       "      <td>b'PK\\x03\\x04\\x14\\x00\\x00\\x00\\x08\\x00\\x13\\x97\\x...</td>\n",
       "      <td>1\\r\\n00:00:06,000 --&gt; 00:00:12,074\\r\\napi.Open...</td>\n",
       "    </tr>\n",
       "    <tr>\n",
       "      <th>82495</th>\n",
       "      <td>9521938</td>\n",
       "      <td>frankenstein.the.true.story.(1973).eng.1cd</td>\n",
       "      <td>b'PK\\x03\\x04\\x14\\x00\\x00\\x00\\x08\\x00$\\x97\\x9aV...</td>\n",
       "      <td>1\\r\\n00:00:01,001 --&gt; 00:00:04,630\\r\\n(Dramati...</td>\n",
       "    </tr>\n",
       "    <tr>\n",
       "      <th>82496</th>\n",
       "      <td>9521940</td>\n",
       "      <td>frankenstein.the.true.story.(1973).eng.1cd</td>\n",
       "      <td>b'PK\\x03\\x04\\x14\\x00\\x00\\x00\\x08\\x00\\x00\\x97\\x...</td>\n",
       "      <td>1\\r\\n00:00:06,000 --&gt; 00:00:12,074\\r\\nAdvertis...</td>\n",
       "    </tr>\n",
       "    <tr>\n",
       "      <th>82497</th>\n",
       "      <td>9521941</td>\n",
       "      <td>zombie.island.massacre.(1984).eng.1cd</td>\n",
       "      <td>b'PK\\x03\\x04\\x14\\x00\\x00\\x00\\x08\\x00,\\x97\\x9aV...</td>\n",
       "      <td>1\\r\\n00:00:01,919 --&gt; 00:00:03,253\\r\\n(Sharp w...</td>\n",
       "    </tr>\n",
       "  </tbody>\n",
       "</table>\n",
       "</div>"
      ],
      "text/plain": [
       "           num                                        name  \\\n",
       "82493  9521935            the.prophets.game.(2000).eng.1cd   \n",
       "82494  9521937                  west.beirut.(1998).eng.1cd   \n",
       "82495  9521938  frankenstein.the.true.story.(1973).eng.1cd   \n",
       "82496  9521940  frankenstein.the.true.story.(1973).eng.1cd   \n",
       "82497  9521941       zombie.island.massacre.(1984).eng.1cd   \n",
       "\n",
       "                                                 content  \\\n",
       "82493  b'PK\\x03\\x04\\x14\\x00\\x00\\x00\\x08\\x00\\xb8\\xa6\\x...   \n",
       "82494  b'PK\\x03\\x04\\x14\\x00\\x00\\x00\\x08\\x00\\x13\\x97\\x...   \n",
       "82495  b'PK\\x03\\x04\\x14\\x00\\x00\\x00\\x08\\x00$\\x97\\x9aV...   \n",
       "82496  b'PK\\x03\\x04\\x14\\x00\\x00\\x00\\x08\\x00\\x00\\x97\\x...   \n",
       "82497  b'PK\\x03\\x04\\x14\\x00\\x00\\x00\\x08\\x00,\\x97\\x9aV...   \n",
       "\n",
       "                                               subtitles  \n",
       "82493  ï»¿1\\r\\n00:01:16,284 --> 00:01:19,537\\r\\nGod,\\...  \n",
       "82494  1\\r\\n00:00:06,000 --> 00:00:12,074\\r\\napi.Open...  \n",
       "82495  1\\r\\n00:00:01,001 --> 00:00:04,630\\r\\n(Dramati...  \n",
       "82496  1\\r\\n00:00:06,000 --> 00:00:12,074\\r\\nAdvertis...  \n",
       "82497  1\\r\\n00:00:01,919 --> 00:00:03,253\\r\\n(Sharp w...  "
      ]
     },
     "execution_count": 12,
     "metadata": {},
     "output_type": "execute_result"
    }
   ],
   "source": [
    "df.columns = ['num', 'name', 'content', 'subtitles']\n",
    "\n",
    "df.tail()"
   ]
  },
  {
   "cell_type": "code",
   "execution_count": 13,
   "id": "4da5962c-ca33-4a90-b98f-4e1614333f8e",
   "metadata": {},
   "outputs": [
    {
     "data": {
      "text/html": [
       "<div>\n",
       "<style scoped>\n",
       "    .dataframe tbody tr th:only-of-type {\n",
       "        vertical-align: middle;\n",
       "    }\n",
       "\n",
       "    .dataframe tbody tr th {\n",
       "        vertical-align: top;\n",
       "    }\n",
       "\n",
       "    .dataframe thead th {\n",
       "        text-align: right;\n",
       "    }\n",
       "</style>\n",
       "<table border=\"1\" class=\"dataframe\">\n",
       "  <thead>\n",
       "    <tr style=\"text-align: right;\">\n",
       "      <th></th>\n",
       "      <th>num</th>\n",
       "      <th>name</th>\n",
       "      <th>subtitles</th>\n",
       "    </tr>\n",
       "  </thead>\n",
       "  <tbody>\n",
       "    <tr>\n",
       "      <th>0</th>\n",
       "      <td>9180533</td>\n",
       "      <td>the.message.(1976).eng.1cd</td>\n",
       "      <td>1\\r\\n00:00:06,000 --&gt; 00:00:12,074\\r\\nWatch an...</td>\n",
       "    </tr>\n",
       "    <tr>\n",
       "      <th>1</th>\n",
       "      <td>9180583</td>\n",
       "      <td>here.comes.the.grump.s01.e09.joltin.jack.in.bo...</td>\n",
       "      <td>1\\r\\n00:00:29,359 --&gt; 00:00:32,048\\r\\nAh! Ther...</td>\n",
       "    </tr>\n",
       "    <tr>\n",
       "      <th>2</th>\n",
       "      <td>9180592</td>\n",
       "      <td>yumis.cells.s02.e13.episode.2.13.(2022).eng.1cd</td>\n",
       "      <td>1\\r\\n00:00:53,200 --&gt; 00:00:56,030\\r\\n&lt;i&gt;Yumi'...</td>\n",
       "    </tr>\n",
       "    <tr>\n",
       "      <th>3</th>\n",
       "      <td>9180594</td>\n",
       "      <td>yumis.cells.s02.e14.episode.2.14.(2022).eng.1cd</td>\n",
       "      <td>1\\r\\n00:00:06,000 --&gt; 00:00:12,074\\r\\nWatch an...</td>\n",
       "    </tr>\n",
       "    <tr>\n",
       "      <th>4</th>\n",
       "      <td>9180600</td>\n",
       "      <td>broker.(2022).eng.1cd</td>\n",
       "      <td>ï»¿1\\r\\n00:00:06,000 --&gt; 00:00:12,074\\r\\nWatch...</td>\n",
       "    </tr>\n",
       "  </tbody>\n",
       "</table>\n",
       "</div>"
      ],
      "text/plain": [
       "       num                                               name  \\\n",
       "0  9180533                         the.message.(1976).eng.1cd   \n",
       "1  9180583  here.comes.the.grump.s01.e09.joltin.jack.in.bo...   \n",
       "2  9180592    yumis.cells.s02.e13.episode.2.13.(2022).eng.1cd   \n",
       "3  9180594    yumis.cells.s02.e14.episode.2.14.(2022).eng.1cd   \n",
       "4  9180600                              broker.(2022).eng.1cd   \n",
       "\n",
       "                                           subtitles  \n",
       "0  1\\r\\n00:00:06,000 --> 00:00:12,074\\r\\nWatch an...  \n",
       "1  1\\r\\n00:00:29,359 --> 00:00:32,048\\r\\nAh! Ther...  \n",
       "2  1\\r\\n00:00:53,200 --> 00:00:56,030\\r\\n<i>Yumi'...  \n",
       "3  1\\r\\n00:00:06,000 --> 00:00:12,074\\r\\nWatch an...  \n",
       "4  ï»¿1\\r\\n00:00:06,000 --> 00:00:12,074\\r\\nWatch...  "
      ]
     },
     "execution_count": 13,
     "metadata": {},
     "output_type": "execute_result"
    }
   ],
   "source": [
    "df_new = df[['num', 'name', 'subtitles']]\n",
    "\n",
    "df_new.head()"
   ]
  },
  {
   "cell_type": "code",
   "execution_count": 14,
   "id": "01927929-66a0-4fc5-b1c5-e85a7d192b1c",
   "metadata": {},
   "outputs": [],
   "source": [
    "# df_new.to_csv('data/subtitles_extracted_data.csv', index=False)"
   ]
  },
  {
   "cell_type": "code",
   "execution_count": 15,
   "id": "f00e8924-90f6-4cc9-8ae4-d6d2ac9de5b7",
   "metadata": {},
   "outputs": [],
   "source": [
    "import re\n",
    "import nltk\n",
    "from nltk.corpus import stopwords\n",
    "from nltk.stem import WordNetLemmatizer\n",
    "\n",
    "def clean(doc):\n",
    "    regex = '[^a-zA-Z.]'\n",
    "    doc = re.sub(regex, ' ', doc)\n",
    "\n",
    "    doc = doc.lower()\n",
    "\n",
    "    tokens = nltk.word_tokenize(doc)\n",
    "\n",
    "    lemmatizer = WordNetLemmatizer()\n",
    "    lemmatized_tokens = [lemmatizer.lemmatize(token) for token in tokens]\n",
    "\n",
    "    return ' '.join(lemmatized_tokens)"
   ]
  },
  {
   "cell_type": "code",
   "execution_count": 16,
   "id": "0b9c549c-1166-494c-8b4a-3b5de4d04bdf",
   "metadata": {},
   "outputs": [
    {
     "name": "stderr",
     "output_type": "stream",
     "text": [
      "100%|██████████| 82498/82498 [37:41<00:00, 36.49it/s]    \n"
     ]
    },
    {
     "data": {
      "text/html": [
       "<div>\n",
       "<style scoped>\n",
       "    .dataframe tbody tr th:only-of-type {\n",
       "        vertical-align: middle;\n",
       "    }\n",
       "\n",
       "    .dataframe tbody tr th {\n",
       "        vertical-align: top;\n",
       "    }\n",
       "\n",
       "    .dataframe thead th {\n",
       "        text-align: right;\n",
       "    }\n",
       "</style>\n",
       "<table border=\"1\" class=\"dataframe\">\n",
       "  <thead>\n",
       "    <tr style=\"text-align: right;\">\n",
       "      <th></th>\n",
       "      <th>num</th>\n",
       "      <th>name</th>\n",
       "      <th>content</th>\n",
       "      <th>subtitles</th>\n",
       "    </tr>\n",
       "  </thead>\n",
       "  <tbody>\n",
       "    <tr>\n",
       "      <th>0</th>\n",
       "      <td>9180533</td>\n",
       "      <td>the.message.(1976).eng.1cd</td>\n",
       "      <td>b'PK\\x03\\x04\\x14\\x00\\x00\\x00\\x08\\x00\\x1c\\xa9\\x...</td>\n",
       "      <td>watch any video online with open subtitle free...</td>\n",
       "    </tr>\n",
       "    <tr>\n",
       "      <th>1</th>\n",
       "      <td>9180583</td>\n",
       "      <td>here.comes.the.grump.s01.e09.joltin.jack.in.bo...</td>\n",
       "      <td>b'PK\\x03\\x04\\x14\\x00\\x00\\x00\\x08\\x00\\x17\\xb9\\x...</td>\n",
       "      <td>ah there s princess dawn and terry with the bl...</td>\n",
       "    </tr>\n",
       "    <tr>\n",
       "      <th>2</th>\n",
       "      <td>9180592</td>\n",
       "      <td>yumis.cells.s02.e13.episode.2.13.(2022).eng.1cd</td>\n",
       "      <td>b'PK\\x03\\x04\\x14\\x00\\x00\\x00\\x08\\x00L\\xb9\\x99V...</td>\n",
       "      <td>i yumi s cell i i episode extremely polite yum...</td>\n",
       "    </tr>\n",
       "    <tr>\n",
       "      <th>3</th>\n",
       "      <td>9180594</td>\n",
       "      <td>yumis.cells.s02.e14.episode.2.14.(2022).eng.1cd</td>\n",
       "      <td>b'PK\\x03\\x04\\x14\\x00\\x00\\x00\\x08\\x00U\\xa9\\x99V...</td>\n",
       "      <td>watch any video online with open subtitle free...</td>\n",
       "    </tr>\n",
       "    <tr>\n",
       "      <th>4</th>\n",
       "      <td>9180600</td>\n",
       "      <td>broker.(2022).eng.1cd</td>\n",
       "      <td>b'PK\\x03\\x04\\x14\\x00\\x00\\x00\\x08\\x001\\xa9\\x99V...</td>\n",
       "      <td>watch any video online with open subtitle free...</td>\n",
       "    </tr>\n",
       "  </tbody>\n",
       "</table>\n",
       "</div>"
      ],
      "text/plain": [
       "       num                                               name  \\\n",
       "0  9180533                         the.message.(1976).eng.1cd   \n",
       "1  9180583  here.comes.the.grump.s01.e09.joltin.jack.in.bo...   \n",
       "2  9180592    yumis.cells.s02.e13.episode.2.13.(2022).eng.1cd   \n",
       "3  9180594    yumis.cells.s02.e14.episode.2.14.(2022).eng.1cd   \n",
       "4  9180600                              broker.(2022).eng.1cd   \n",
       "\n",
       "                                             content  \\\n",
       "0  b'PK\\x03\\x04\\x14\\x00\\x00\\x00\\x08\\x00\\x1c\\xa9\\x...   \n",
       "1  b'PK\\x03\\x04\\x14\\x00\\x00\\x00\\x08\\x00\\x17\\xb9\\x...   \n",
       "2  b'PK\\x03\\x04\\x14\\x00\\x00\\x00\\x08\\x00L\\xb9\\x99V...   \n",
       "3  b'PK\\x03\\x04\\x14\\x00\\x00\\x00\\x08\\x00U\\xa9\\x99V...   \n",
       "4  b'PK\\x03\\x04\\x14\\x00\\x00\\x00\\x08\\x001\\xa9\\x99V...   \n",
       "\n",
       "                                           subtitles  \n",
       "0  watch any video online with open subtitle free...  \n",
       "1  ah there s princess dawn and terry with the bl...  \n",
       "2  i yumi s cell i i episode extremely polite yum...  \n",
       "3  watch any video online with open subtitle free...  \n",
       "4  watch any video online with open subtitle free...  "
      ]
     },
     "execution_count": 16,
     "metadata": {},
     "output_type": "execute_result"
    }
   ],
   "source": [
    "from tqdm import tqdm\n",
    "\n",
    "tqdm.pandas()\n",
    "\n",
    "df['subtitles'] = df['subtitles'].progress_apply(lambda x: clean(x))\n",
    "\n",
    "df.head()"
   ]
  },
  {
   "cell_type": "code",
   "execution_count": 17,
   "id": "23e910e1-4ff1-4db8-bdc6-216228034de5",
   "metadata": {},
   "outputs": [
    {
     "name": "stdout",
     "output_type": "stream",
     "text": [
      "watch any video online with open subtitle free browser extension osdb.link ext in the name of god the most gracious the most merciful . from muhammad the messenger of god to heraclius the emperor of byzantium . greeting to him who is the follower of righteous guidance . i bid you to hear the divine call . i am the messenger of god to the people accept islam for your salvation . he speaks of a new prophet in arabia . wa it like this when john the baptist came to king herod out of the desert cry about salvation to muqawqis patriarch of alexandria . kisra emperor of persia . muhammad call you with the call of god . accept islam for your salvation ... embrace islam . you come out of the desert smelling of camel and goat . to tell persia where he should kneel muhammad messenger of god . who gave him this authority god sent muhammad a a mercy to mankind . the scholar and historian of islam the university of al azhar in cairo the high islamic congress of the shiat in lebanon the maker of this\n"
     ]
    }
   ],
   "source": [
    "print(df['subtitles'][0][0:1000])"
   ]
  },
  {
   "cell_type": "code",
   "execution_count": 18,
   "id": "31b5ffb6-d6e2-4232-a1d6-691b0cedd370",
   "metadata": {},
   "outputs": [],
   "source": [
    "import re\n",
    "\n",
    "def extract_metadata(name):\n",
    "    # First check if the name contains season and episode information (series)\n",
    "    series_match = re.match(r\"([a-zA-Z\\s\\.]+)\\.s\\d{2}\\.e\\d{2}\", name)\n",
    "    \n",
    "    if series_match:\n",
    "        # For series: Extract name and replace dots with spaces\n",
    "        extracted_name = series_match.group(1).strip().replace('.', ' ')\n",
    "        \n",
    "        # Extract season, episode, and year\n",
    "        season_match = re.search(r\"\\.s(\\d+)\", name)\n",
    "        season = season_match.group(1) if season_match else None\n",
    "        \n",
    "        episode_match = re.search(r\"\\.e(\\d+)\", name)\n",
    "        episode = episode_match.group(1) if episode_match else None\n",
    "        \n",
    "        year_match = re.search(r\"\\((\\d{4})\\)\", name)\n",
    "        year = year_match.group(1) if year_match else None\n",
    "        \n",
    "    else:\n",
    "        # For movies: Extract name before the year (if no season and episode)\n",
    "        extracted_name = re.match(r\"([a-zA-Z\\s\\.]+)\\.\\(\\d{4}\\)\", name).group(1).strip().replace('.', ' ') if re.match(r\"([a-zA-Z\\s\\.]+)\\.\\(\\d{4}\\)\", name) else name\n",
    "        \n",
    "        # Movie name doesn't have season or episode, so only extract the year\n",
    "        season, episode = None, None\n",
    "        \n",
    "        year_match = re.search(r\"\\((\\d{4})\\)\", name)\n",
    "        year = year_match.group(1) if year_match else None\n",
    "    \n",
    "    return extracted_name, season, episode, year"
   ]
  },
  {
   "cell_type": "code",
   "execution_count": 19,
   "id": "cd67ae54-c24d-472f-a9f1-2a94d5941fd1",
   "metadata": {},
   "outputs": [],
   "source": [
    "# Apply the function to the 'name' column\n",
    "\n",
    "df[['extracted_name', 'season', 'episode', 'year']] = df['name'].apply(lambda x: pd.Series(extract_metadata(x)))"
   ]
  },
  {
   "cell_type": "code",
   "execution_count": 20,
   "id": "fb0d0c52-a595-4695-ad15-b5e43ccb26d2",
   "metadata": {},
   "outputs": [
    {
     "data": {
      "text/html": [
       "<div>\n",
       "<style scoped>\n",
       "    .dataframe tbody tr th:only-of-type {\n",
       "        vertical-align: middle;\n",
       "    }\n",
       "\n",
       "    .dataframe tbody tr th {\n",
       "        vertical-align: top;\n",
       "    }\n",
       "\n",
       "    .dataframe thead th {\n",
       "        text-align: right;\n",
       "    }\n",
       "</style>\n",
       "<table border=\"1\" class=\"dataframe\">\n",
       "  <thead>\n",
       "    <tr style=\"text-align: right;\">\n",
       "      <th></th>\n",
       "      <th>num</th>\n",
       "      <th>extracted_name</th>\n",
       "      <th>season</th>\n",
       "      <th>episode</th>\n",
       "      <th>year</th>\n",
       "      <th>subtitles</th>\n",
       "    </tr>\n",
       "  </thead>\n",
       "  <tbody>\n",
       "    <tr>\n",
       "      <th>0</th>\n",
       "      <td>9180533</td>\n",
       "      <td>the message</td>\n",
       "      <td>None</td>\n",
       "      <td>None</td>\n",
       "      <td>1976</td>\n",
       "      <td>watch any video online with open subtitle free...</td>\n",
       "    </tr>\n",
       "    <tr>\n",
       "      <th>1</th>\n",
       "      <td>9180583</td>\n",
       "      <td>here comes the grump</td>\n",
       "      <td>01</td>\n",
       "      <td>09</td>\n",
       "      <td>1969</td>\n",
       "      <td>ah there s princess dawn and terry with the bl...</td>\n",
       "    </tr>\n",
       "    <tr>\n",
       "      <th>2</th>\n",
       "      <td>9180592</td>\n",
       "      <td>yumis cells</td>\n",
       "      <td>02</td>\n",
       "      <td>13</td>\n",
       "      <td>2022</td>\n",
       "      <td>i yumi s cell i i episode extremely polite yum...</td>\n",
       "    </tr>\n",
       "  </tbody>\n",
       "</table>\n",
       "</div>"
      ],
      "text/plain": [
       "       num        extracted_name season episode  year  \\\n",
       "0  9180533           the message   None    None  1976   \n",
       "1  9180583  here comes the grump     01      09  1969   \n",
       "2  9180592           yumis cells     02      13  2022   \n",
       "\n",
       "                                           subtitles  \n",
       "0  watch any video online with open subtitle free...  \n",
       "1  ah there s princess dawn and terry with the bl...  \n",
       "2  i yumi s cell i i episode extremely polite yum...  "
      ]
     },
     "execution_count": 20,
     "metadata": {},
     "output_type": "execute_result"
    }
   ],
   "source": [
    "df = df[['num', 'extracted_name', 'season', 'episode', 'year', 'subtitles']]\n",
    "\n",
    "df.head(3)"
   ]
  },
  {
   "cell_type": "code",
   "execution_count": 21,
   "id": "135fbff0-4772-4b51-ad2c-78f71f0e8174",
   "metadata": {},
   "outputs": [
    {
     "name": "stdout",
     "output_type": "stream",
     "text": [
      "<class 'pandas.core.frame.DataFrame'>\n",
      "RangeIndex: 82498 entries, 0 to 82497\n",
      "Data columns (total 6 columns):\n",
      " #   Column          Non-Null Count  Dtype \n",
      "---  ------          --------------  ----- \n",
      " 0   num             82498 non-null  int64 \n",
      " 1   extracted_name  82498 non-null  object\n",
      " 2   season          61829 non-null  object\n",
      " 3   episode         61829 non-null  object\n",
      " 4   year            80446 non-null  object\n",
      " 5   subtitles       82498 non-null  object\n",
      "dtypes: int64(1), object(5)\n",
      "memory usage: 3.8+ MB\n"
     ]
    }
   ],
   "source": [
    "df.info()"
   ]
  },
  {
   "cell_type": "code",
   "execution_count": 22,
   "id": "f002df16-6fc1-436f-93e6-8ea612483e07",
   "metadata": {},
   "outputs": [],
   "source": [
    "df['season'] = df['season'].fillna('movie')\n",
    "df['episode'] = df['episode'].fillna('movie')\n",
    "df['year'] = df['year'].fillna('unknown')\n",
    "\n",
    "df.rename(columns={'extracted_name': 'name'}, inplace=True)\n",
    "df.rename(columns={'num': 'movie_id'}, inplace=True)"
   ]
  },
  {
   "cell_type": "code",
   "execution_count": 23,
   "id": "f0038775-25f8-4031-8005-8020d6fb172c",
   "metadata": {},
   "outputs": [
    {
     "data": {
      "text/html": [
       "<div>\n",
       "<style scoped>\n",
       "    .dataframe tbody tr th:only-of-type {\n",
       "        vertical-align: middle;\n",
       "    }\n",
       "\n",
       "    .dataframe tbody tr th {\n",
       "        vertical-align: top;\n",
       "    }\n",
       "\n",
       "    .dataframe thead th {\n",
       "        text-align: right;\n",
       "    }\n",
       "</style>\n",
       "<table border=\"1\" class=\"dataframe\">\n",
       "  <thead>\n",
       "    <tr style=\"text-align: right;\">\n",
       "      <th></th>\n",
       "      <th>movie_id</th>\n",
       "      <th>name</th>\n",
       "      <th>season</th>\n",
       "      <th>episode</th>\n",
       "      <th>year</th>\n",
       "      <th>subtitles</th>\n",
       "    </tr>\n",
       "  </thead>\n",
       "  <tbody>\n",
       "    <tr>\n",
       "      <th>0</th>\n",
       "      <td>9180533</td>\n",
       "      <td>the message</td>\n",
       "      <td>movie</td>\n",
       "      <td>movie</td>\n",
       "      <td>1976</td>\n",
       "      <td>watch any video online with open subtitle free...</td>\n",
       "    </tr>\n",
       "    <tr>\n",
       "      <th>1</th>\n",
       "      <td>9180583</td>\n",
       "      <td>here comes the grump</td>\n",
       "      <td>01</td>\n",
       "      <td>09</td>\n",
       "      <td>1969</td>\n",
       "      <td>ah there s princess dawn and terry with the bl...</td>\n",
       "    </tr>\n",
       "    <tr>\n",
       "      <th>2</th>\n",
       "      <td>9180592</td>\n",
       "      <td>yumis cells</td>\n",
       "      <td>02</td>\n",
       "      <td>13</td>\n",
       "      <td>2022</td>\n",
       "      <td>i yumi s cell i i episode extremely polite yum...</td>\n",
       "    </tr>\n",
       "    <tr>\n",
       "      <th>3</th>\n",
       "      <td>9180594</td>\n",
       "      <td>yumis cells</td>\n",
       "      <td>02</td>\n",
       "      <td>14</td>\n",
       "      <td>2022</td>\n",
       "      <td>watch any video online with open subtitle free...</td>\n",
       "    </tr>\n",
       "    <tr>\n",
       "      <th>4</th>\n",
       "      <td>9180600</td>\n",
       "      <td>broker</td>\n",
       "      <td>movie</td>\n",
       "      <td>movie</td>\n",
       "      <td>2022</td>\n",
       "      <td>watch any video online with open subtitle free...</td>\n",
       "    </tr>\n",
       "  </tbody>\n",
       "</table>\n",
       "</div>"
      ],
      "text/plain": [
       "   movie_id                  name season episode  year  \\\n",
       "0   9180533           the message  movie   movie  1976   \n",
       "1   9180583  here comes the grump     01      09  1969   \n",
       "2   9180592           yumis cells     02      13  2022   \n",
       "3   9180594           yumis cells     02      14  2022   \n",
       "4   9180600                broker  movie   movie  2022   \n",
       "\n",
       "                                           subtitles  \n",
       "0  watch any video online with open subtitle free...  \n",
       "1  ah there s princess dawn and terry with the bl...  \n",
       "2  i yumi s cell i i episode extremely polite yum...  \n",
       "3  watch any video online with open subtitle free...  \n",
       "4  watch any video online with open subtitle free...  "
      ]
     },
     "execution_count": 23,
     "metadata": {},
     "output_type": "execute_result"
    }
   ],
   "source": [
    "df.head()"
   ]
  },
  {
   "cell_type": "code",
   "execution_count": 24,
   "id": "8f6becce-facc-4e9d-ac3b-e129c6ec1d47",
   "metadata": {},
   "outputs": [
    {
     "name": "stdout",
     "output_type": "stream",
     "text": [
      "<class 'pandas.core.frame.DataFrame'>\n",
      "RangeIndex: 82498 entries, 0 to 82497\n",
      "Data columns (total 6 columns):\n",
      " #   Column     Non-Null Count  Dtype \n",
      "---  ------     --------------  ----- \n",
      " 0   movie_id   82498 non-null  int64 \n",
      " 1   name       82498 non-null  object\n",
      " 2   season     82498 non-null  object\n",
      " 3   episode    82498 non-null  object\n",
      " 4   year       82498 non-null  object\n",
      " 5   subtitles  82498 non-null  object\n",
      "dtypes: int64(1), object(5)\n",
      "memory usage: 3.8+ MB\n"
     ]
    }
   ],
   "source": [
    "df.info()"
   ]
  },
  {
   "cell_type": "code",
   "execution_count": 26,
   "id": "d96474c0-04ef-4de4-8c6b-b5aba76f610e",
   "metadata": {},
   "outputs": [],
   "source": [
    "# df.to_csv('data/subtitles_metadata.csv', index=False)"
   ]
  },
  {
   "cell_type": "code",
   "execution_count": null,
   "id": "3633a96e-52a5-4b07-a155-a768c8449f13",
   "metadata": {},
   "outputs": [],
   "source": []
  }
 ],
 "metadata": {
  "kernelspec": {
   "display_name": "Python 3 (ipykernel)",
   "language": "python",
   "name": "python3"
  },
  "language_info": {
   "codemirror_mode": {
    "name": "ipython",
    "version": 3
   },
   "file_extension": ".py",
   "mimetype": "text/x-python",
   "name": "python",
   "nbconvert_exporter": "python",
   "pygments_lexer": "ipython3",
   "version": "3.12.7"
  }
 },
 "nbformat": 4,
 "nbformat_minor": 5
}
